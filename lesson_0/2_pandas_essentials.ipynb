{
  "nbformat": 4,
  "nbformat_minor": 0,
  "metadata": {
    "colab": {
      "name": "2_pandas_essentials.ipynb",
      "provenance": [],
      "authorship_tag": "ABX9TyN3/Mpiw6a21fDA5h7jfvzi",
      "include_colab_link": true
    },
    "kernelspec": {
      "name": "python3",
      "display_name": "Python 3"
    },
    "language_info": {
      "name": "python"
    }
  },
  "cells": [
    {
      "cell_type": "markdown",
      "metadata": {
        "id": "view-in-github",
        "colab_type": "text"
      },
      "source": [
        "<a href=\"https://colab.research.google.com/github/rahwinside/fastai/blob/main/lesson_0/2_pandas_essentials.ipynb\" target=\"_parent\"><img src=\"https://colab.research.google.com/assets/colab-badge.svg\" alt=\"Open In Colab\"/></a>"
      ]
    },
    {
      "cell_type": "markdown",
      "metadata": {
        "id": "N8_79QgQpjxl"
      },
      "source": [
        "# **IMPORTANT**: Please avoid creating unnecessary DataFrames: use the DataFrames declared in section 1; create additional DataFrames only if necessary!"
      ]
    },
    {
      "cell_type": "markdown",
      "metadata": {
        "id": "dtJwHdenpUAI"
      },
      "source": [
        "# **Pandas Essentials**\n",
        "pandas is an open source, BSD-licensed library providing high-performance, easy-to-use data structures and data analysis tools for the Python programming language.\n",
        "\n",
        "## **What kind of data does pandas handle?**\n",
        "When working with tabular data, such as data stored in spreadsheets or databases, pandas is the right tool for you. pandas will help you to explore, clean, and process your data. In pandas, a data table is called a DataFrame.\n",
        "\n",
        "pandas supports the integration with many file formats or data sources out of the box (csv, excel, sql, json, parquet,…). Importing data from each of these data sources is provided by function with the prefix read_\\*. Similarly, the to_\\* methods are used to store data.\n",
        "\n"
      ]
    },
    {
      "cell_type": "markdown",
      "metadata": {
        "id": "vZ0kOnbtq4Qj"
      },
      "source": [
        "# 1. Creating a DataFrame"
      ]
    },
    {
      "cell_type": "code",
      "metadata": {
        "id": "23aqqZkxpQxx"
      },
      "source": [
        ""
      ],
      "execution_count": null,
      "outputs": []
    }
  ]
}