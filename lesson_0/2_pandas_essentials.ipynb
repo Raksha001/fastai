{
  "nbformat": 4,
  "nbformat_minor": 0,
  "metadata": {
    "colab": {
      "name": "2_pandas_essentials.ipynb",
      "provenance": [],
      "authorship_tag": "ABX9TyMKMTkV+K7PA4rxE4eJmKi4",
      "include_colab_link": true
    },
    "kernelspec": {
      "name": "python3",
      "display_name": "Python 3"
    },
    "language_info": {
      "name": "python"
    }
  },
  "cells": [
    {
      "cell_type": "markdown",
      "metadata": {
        "id": "view-in-github",
        "colab_type": "text"
      },
      "source": [
        "<a href=\"https://colab.research.google.com/github/rahwinside/fastai/blob/main/lesson_0/2_pandas_essentials.ipynb\" target=\"_parent\"><img src=\"https://colab.research.google.com/assets/colab-badge.svg\" alt=\"Open In Colab\"/></a>"
      ]
    },
    {
      "cell_type": "markdown",
      "metadata": {
        "id": "N8_79QgQpjxl"
      },
      "source": [
        "# **IMPORTANT**: Please avoid creating unnecessary DataFrames: use the DataFrames declared in section 1; create additional DataFrames only if necessary!"
      ]
    },
    {
      "cell_type": "markdown",
      "metadata": {
        "id": "dtJwHdenpUAI"
      },
      "source": [
        "# **Pandas Essentials**\n",
        "pandas is an open source, BSD-licensed library providing high-performance, easy-to-use data structures and data analysis tools for the Python programming language.\n",
        "\n",
        "## **What kind of data does pandas handle?**\n",
        "When working with tabular data, such as data stored in spreadsheets or databases, pandas is the right tool for you. pandas will help you to explore, clean, and process your data. In pandas, a data table is called a DataFrame.\n",
        "\n",
        "pandas supports the integration with many file formats or data sources out of the box (csv, excel, sql, json, parquet,…). Importing data from each of these data sources is provided by function with the prefix read_\\*. Similarly, the to_\\* methods are used to store data.\n",
        "\n",
        "\n",
        "---\n",
        "\n",
        "\n",
        "\n"
      ]
    },
    {
      "cell_type": "markdown",
      "metadata": {
        "id": "qxoXAsmTrxsV"
      },
      "source": [
        "# 0. Import necessary  modules\n",
        "Import pandas and NumPy"
      ]
    },
    {
      "cell_type": "code",
      "metadata": {
        "id": "nwQHQbZzr6bt"
      },
      "source": [
        "import pandas as pd\n",
        "import numpy as np"
      ],
      "execution_count": null,
      "outputs": []
    },
    {
      "cell_type": "markdown",
      "metadata": {
        "id": "vZ0kOnbtq4Qj"
      },
      "source": [
        "# 1. Creating a DataFrame\n",
        "Pandas DataFrame is a 2-dimensional labeled data structure with columns of potentially different types. It is generally the most commonly used pandas object.\n",
        "Pandas DataFrame can be created in multiple ways, a few include:\n",
        " - Method 1: Creating Pandas DataFrame from lists of lists.\n",
        " - Method 2: Creating DataFrame from dict of narray/lists\n",
        " - Method 3: Creating an indexes DataFrame using arrays.\n",
        " - Method 4: Creating DataFrame from list of dicts\n",
        " - Method 5: Creating DataFrame using zip() function: two lists can be merged by using list(zip()) function\n",
        " - Method 6: Creating a DataFrame from a NumPy array and specify the index column and column headers\n",
        "\n",
        "Feel free to add any other method that you discover!"
      ]
    },
    {
      "cell_type": "code",
      "metadata": {
        "id": "23aqqZkxpQxx"
      },
      "source": [
        "# Creating Pandas DataFrame from lists of lists"
      ],
      "execution_count": null,
      "outputs": []
    },
    {
      "cell_type": "code",
      "metadata": {
        "id": "WrB5e-fAtosE"
      },
      "source": [
        "# Creating DataFrame from dict of narray/lists"
      ],
      "execution_count": null,
      "outputs": []
    },
    {
      "cell_type": "code",
      "metadata": {
        "id": "3gBtsYmStq3D"
      },
      "source": [
        "# Creating an indexes DataFrame using arrays."
      ],
      "execution_count": null,
      "outputs": []
    },
    {
      "cell_type": "code",
      "metadata": {
        "id": "hRKKjH1ztt2R"
      },
      "source": [
        "# Creating DataFrame from list of dicts"
      ],
      "execution_count": null,
      "outputs": []
    },
    {
      "cell_type": "code",
      "metadata": {
        "id": "J9MplEpWtvKb"
      },
      "source": [
        "# Creating DataFrame using zip() function: two lists can be merged by using list(zip()) function"
      ],
      "execution_count": null,
      "outputs": []
    },
    {
      "cell_type": "code",
      "metadata": {
        "id": "3DEfOkwHtxII"
      },
      "source": [
        "# Creating a DataFrame from a NumPy array and specify the index column and column headers"
      ],
      "execution_count": null,
      "outputs": []
    }
  ]
}