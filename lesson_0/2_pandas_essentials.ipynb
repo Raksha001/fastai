{
  "nbformat": 4,
  "nbformat_minor": 0,
  "metadata": {
    "colab": {
      "name": "2_pandas_essentials.ipynb",
      "provenance": [],
      "authorship_tag": "ABX9TyOLF5xg8TuONdeX70lPCfcr",
      "include_colab_link": true
    },
    "kernelspec": {
      "name": "python3",
      "display_name": "Python 3"
    },
    "language_info": {
      "name": "python"
    }
  },
  "cells": [
    {
      "cell_type": "markdown",
      "metadata": {
        "id": "view-in-github",
        "colab_type": "text"
      },
      "source": [
        "<a href=\"https://colab.research.google.com/github/rahwinside/fastai/blob/main/lesson_0/2_pandas_essentials.ipynb\" target=\"_parent\"><img src=\"https://colab.research.google.com/assets/colab-badge.svg\" alt=\"Open In Colab\"/></a>"
      ]
    },
    {
      "cell_type": "markdown",
      "metadata": {
        "id": "N8_79QgQpjxl"
      },
      "source": [
        "# **IMPORTANT**: Please avoid creating unnecessary DataFrames: use the DataFrames declared in section 1; create additional DataFrames only if necessary!"
      ]
    },
    {
      "cell_type": "markdown",
      "metadata": {
        "id": "dtJwHdenpUAI"
      },
      "source": [
        "# **Pandas Essentials**\n",
        "pandas is an open source, BSD-licensed library providing high-performance, easy-to-use data structures and data analysis tools for the Python programming language.\n",
        "\n",
        "## **What kind of data does pandas handle?**\n",
        "When working with tabular data, such as data stored in spreadsheets or databases, pandas is the right tool for you. pandas will help you to explore, clean, and process your data. In pandas, a data table is called a DataFrame.\n",
        "\n",
        "pandas supports the integration with many file formats or data sources out of the box (csv, excel, sql, json, parquet,…). Importing data from each of these data sources is provided by function with the prefix read_\\*. Similarly, the to_\\* methods are used to store data.\n",
        "\n",
        "\n",
        "---\n",
        "\n",
        "\n",
        "\n"
      ]
    },
    {
      "cell_type": "markdown",
      "metadata": {
        "id": "qxoXAsmTrxsV"
      },
      "source": [
        "# 0. Import necessary  modules\n",
        "Import pandas and NumPy"
      ]
    },
    {
      "cell_type": "code",
      "metadata": {
        "id": "nwQHQbZzr6bt"
      },
      "source": [
        "import pandas as pd\n",
        "import numpy as np"
      ],
      "execution_count": null,
      "outputs": []
    },
    {
      "cell_type": "markdown",
      "metadata": {
        "id": "vZ0kOnbtq4Qj"
      },
      "source": [
        "# 1. Creating a DataFrame\n",
        "Pandas DataFrame is a 2-dimensional labeled data structure with columns of potentially different types. It is generally the most commonly used pandas object.\n",
        "Pandas DataFrame can be created in multiple ways, a few include:\n",
        " - Method 1: Creating Pandas DataFrame from lists of lists.\n",
        " - Method 2: Creating DataFrame from dict of narray/lists\n",
        " - Method 3: Creating an indexes DataFrame using arrays.\n",
        " - Method 4: Creating DataFrame from list of dicts\n",
        " - Method 5: Creating DataFrame using zip() function: two lists can be merged by using list(zip()) function\n",
        " - Method 6: Creating a DataFrame from a NumPy array and specify the index column and column headers\n",
        " - Method 7: Creating an empty DataFrame\n",
        "\n",
        "Feel free to add any other method that you discover!"
      ]
    },
    {
      "cell_type": "code",
      "metadata": {
        "id": "23aqqZkxpQxx"
      },
      "source": [
        "# Creating Pandas DataFrame from lists of lists"
      ],
      "execution_count": null,
      "outputs": []
    },
    {
      "cell_type": "code",
      "metadata": {
        "id": "WrB5e-fAtosE"
      },
      "source": [
        "# Creating DataFrame from dict of narray/lists"
      ],
      "execution_count": null,
      "outputs": []
    },
    {
      "cell_type": "code",
      "metadata": {
        "id": "3gBtsYmStq3D"
      },
      "source": [
        "# Creating an indexes DataFrame using arrays."
      ],
      "execution_count": null,
      "outputs": []
    },
    {
      "cell_type": "code",
      "metadata": {
        "id": "hRKKjH1ztt2R"
      },
      "source": [
        "# Creating DataFrame from list of dicts"
      ],
      "execution_count": null,
      "outputs": []
    },
    {
      "cell_type": "code",
      "metadata": {
        "id": "J9MplEpWtvKb"
      },
      "source": [
        "# Creating DataFrame using zip() function: two lists can be merged by using list(zip()) function"
      ],
      "execution_count": null,
      "outputs": []
    },
    {
      "cell_type": "code",
      "metadata": {
        "id": "3DEfOkwHtxII"
      },
      "source": [
        "# Creating a DataFrame from a NumPy array and specify the index column and column headers"
      ],
      "execution_count": null,
      "outputs": []
    },
    {
      "cell_type": "code",
      "metadata": {
        "id": "etIiJe_IvbA0"
      },
      "source": [
        "# Creating an empty DataFrame"
      ],
      "execution_count": null,
      "outputs": []
    },
    {
      "cell_type": "markdown",
      "metadata": {
        "id": "D8wf9LPWuy_m"
      },
      "source": [
        "# 2. Fundamental DataFrame Operations\n",
        "- Select an Index or Column from a DataFrame\n",
        "- Add an Index, Row or Column to a DataFrame\n",
        "- Delete Indices, Rows or Columns from a DataFrame\n",
        "- Rename the Indices or Columns of a DataFrame\n",
        "- Iterate over a DataFrame\n",
        "\n",
        "Feel free to any any other important operations that you know!"
      ]
    },
    {
      "cell_type": "code",
      "metadata": {
        "id": "aycB7UMTv5GL"
      },
      "source": [
        "# Select an index\n",
        "\n",
        "\n",
        "# Select a column\n",
        "\n"
      ],
      "execution_count": null,
      "outputs": []
    },
    {
      "cell_type": "code",
      "metadata": {
        "id": "b-0KuvQ1v9Ku"
      },
      "source": [
        "# Add an index\n",
        "\n",
        "\n",
        "# Add a row\n",
        "\n",
        "\n",
        "# Add a column\n",
        "\n"
      ],
      "execution_count": null,
      "outputs": []
    },
    {
      "cell_type": "code",
      "metadata": {
        "id": "D5Zpr-shwMVO"
      },
      "source": [
        "# Delete an index\n",
        "\n",
        "\n",
        "# Delete a row\n",
        "\n",
        "\n",
        "# Delete a column\n",
        "\n"
      ],
      "execution_count": null,
      "outputs": []
    },
    {
      "cell_type": "code",
      "metadata": {
        "id": "_7ZMNS7HwP6E"
      },
      "source": [
        "# Rename an index\n",
        "\n",
        "\n",
        "# Rename a column\n",
        "\n"
      ],
      "execution_count": null,
      "outputs": []
    },
    {
      "cell_type": "code",
      "metadata": {
        "id": "P60uCDnKwW5K"
      },
      "source": [
        "# Iterate over a DataFrame: row-wise\n",
        "\n",
        "\n",
        "# Iterate over a DataFrame: column-wise\n",
        "\n"
      ],
      "execution_count": null,
      "outputs": []
    },
    {
      "cell_type": "markdown",
      "metadata": {
        "id": "2vwFJYaXyKPC"
      },
      "source": [
        "# 3. Attributes of a DataFrame\n",
        "A DataFrame has attributes! Understand the DataFrame by going through the attributes of the DataFrame class.\n",
        "This section is completely open, unstructured!\n",
        "Please go ahead and add all the interesting attributes you've discovered! (Mention appropriate description as comments for the same)"
      ]
    },
    {
      "cell_type": "code",
      "metadata": {
        "id": "kqcRAMI9y63-"
      },
      "source": [
        "# Drop all your discovered attributes here!"
      ],
      "execution_count": null,
      "outputs": []
    },
    {
      "cell_type": "markdown",
      "metadata": {
        "id": "pXW6n8K9y_J5"
      },
      "source": [
        "# 4. Methods of a DataFrame\n",
        "Explore DataFrame capabilities through its methods!\n",
        "This section is completely open, unstructured!\n",
        "Please go ahead and add all the interesting methods you've discovered! (Mention appropriate description as comments for the same)\n",
        "\n",
        "## *Warning: Do not repeat the methods in the following section!*"
      ]
    },
    {
      "cell_type": "code",
      "metadata": {
        "id": "TAm4nzmGzd_R"
      },
      "source": [
        "# Drop all your discovered methods here!"
      ],
      "execution_count": null,
      "outputs": []
    },
    {
      "cell_type": "markdown",
      "metadata": {
        "id": "cWOnFhM41WSJ"
      },
      "source": [
        "# 5. 15 most important pandas functions that you should know!\n",
        "- read_csv()\n",
        "- to_csv()\n",
        "- head()\n",
        "- describe()\n",
        "- memory_usage()\n",
        "- astype()\n",
        "- loc[:]\n",
        "- to_datetime()\n",
        "- value_counts()\n",
        "- groupby()\n",
        "- drop_duplicates()\n",
        "- merge()\n",
        "- sort_values()\n",
        "- fillna()\n",
        "- corr()"
      ]
    },
    {
      "cell_type": "code",
      "metadata": {
        "id": "TN-STh5W1bcI"
      },
      "source": [
        "# read_csv()"
      ],
      "execution_count": null,
      "outputs": []
    },
    {
      "cell_type": "code",
      "metadata": {
        "id": "Ln6lCaa35YVs"
      },
      "source": [
        "# to_csv()"
      ],
      "execution_count": null,
      "outputs": []
    },
    {
      "cell_type": "code",
      "metadata": {
        "id": "GNWBmMCM5Zux"
      },
      "source": [
        "# head()"
      ],
      "execution_count": null,
      "outputs": []
    },
    {
      "cell_type": "code",
      "metadata": {
        "id": "TiRyHGDh5bYm"
      },
      "source": [
        "# describe()"
      ],
      "execution_count": null,
      "outputs": []
    },
    {
      "cell_type": "code",
      "metadata": {
        "id": "LV9MDo0X5csy"
      },
      "source": [
        "# memory_usage()"
      ],
      "execution_count": null,
      "outputs": []
    },
    {
      "cell_type": "code",
      "metadata": {
        "id": "yi5M66Ox5d6F"
      },
      "source": [
        "# astype()"
      ],
      "execution_count": null,
      "outputs": []
    },
    {
      "cell_type": "code",
      "metadata": {
        "id": "oQkeWSBq5fr_"
      },
      "source": [
        "# loc[:]"
      ],
      "execution_count": null,
      "outputs": []
    },
    {
      "cell_type": "code",
      "metadata": {
        "id": "l2RkrzSS5hau"
      },
      "source": [
        "# to_datetime()"
      ],
      "execution_count": null,
      "outputs": []
    },
    {
      "cell_type": "code",
      "metadata": {
        "id": "YBS1oKJU5jOL"
      },
      "source": [
        "# value_counts()"
      ],
      "execution_count": null,
      "outputs": []
    },
    {
      "cell_type": "code",
      "metadata": {
        "id": "YRuETE2X5nF-"
      },
      "source": [
        "# groupby()"
      ],
      "execution_count": null,
      "outputs": []
    },
    {
      "cell_type": "code",
      "metadata": {
        "id": "_w_nFWwc5m8h"
      },
      "source": [
        "# drop_duplicates()"
      ],
      "execution_count": null,
      "outputs": []
    },
    {
      "cell_type": "code",
      "metadata": {
        "id": "VBv7mYgH5mz_"
      },
      "source": [
        "# merge()"
      ],
      "execution_count": null,
      "outputs": []
    },
    {
      "cell_type": "code",
      "metadata": {
        "id": "B8kkz4gW5mSo"
      },
      "source": [
        "# sort_values()"
      ],
      "execution_count": null,
      "outputs": []
    },
    {
      "cell_type": "code",
      "metadata": {
        "id": "kfTwNteC5mI-"
      },
      "source": [
        "# fillna()"
      ],
      "execution_count": null,
      "outputs": []
    },
    {
      "cell_type": "code",
      "metadata": {
        "id": "04vNimsG5tly"
      },
      "source": [
        "# corr()"
      ],
      "execution_count": null,
      "outputs": []
    }
  ]
}