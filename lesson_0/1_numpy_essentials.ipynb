{
  "cells": [
    {
      "cell_type": "markdown",
      "metadata": {
        "colab_type": "text",
        "id": "view-in-github"
      },
      "source": [
        "<a href=\"https://colab.research.google.com/github/rahwinside/fastai/blob/main/lesson_0/1_numpy_essentials.ipynb\" target=\"_parent\"><img src=\"https://colab.research.google.com/assets/colab-badge.svg\" alt=\"Open In Colab\"/></a>"
      ]
    },
    {
      "cell_type": "markdown",
      "metadata": {
        "id": "DgtsvALoxjKB"
      },
      "source": [
        "# **IMPORTANT**: Please avoid creating unnecessary arrays: use the arrays declared in section 1; create additional arrays only if necessary!"
      ]
    },
    {
      "cell_type": "markdown",
      "metadata": {
        "id": "xlcUVM0FiM7v"
      },
      "source": [
        "# **NumPy Essentials**\n",
        "\n",
        "NumPy is the fundamental package for scientific computing in Python. It is a Python library that provides a multidimensional array object, various derived objects (such as masked arrays and matrices), and an assortment of routines for fast operations on arrays, including mathematical, logical, shape manipulation, sorting, selecting, I/O, discrete Fourier transforms, basic linear algebra, basic statistical operations, random simulation and much more. This library is widely used for numerical analysis, matrix computations, and mathematical operations.\n",
        "\n",
        "At the core of the NumPy package, is the ndarray object. This encapsulates n-dimensional arrays of homogeneous data types, with many operations being performed in compiled code for performance. There are several important differences between NumPy arrays and the standard Python sequences:\n",
        "\n",
        "- NumPy arrays have a fixed size at creation, unlike Python lists (which can grow dynamically). Changing the size of an ndarray will create a new array and delete the original.\n",
        "\n",
        "- The elements in a NumPy array are all required to be of the same data type, and thus will be the same size in memory. The exception: one can have arrays of (Python, including NumPy) objects, thereby allowing for arrays of different sized elements.\n",
        "\n",
        "- NumPy arrays facilitate advanced mathematical and other types of operations on large numbers of data. Typically, such operations are executed more efficiently and with less code than is possible using Python’s built-in sequences.\n",
        "\n",
        "- A growing plethora of scientific and mathematical Python-based packages are using NumPy arrays; though these typically support Python-sequence input, they convert such input to NumPy arrays prior to processing, and they often output NumPy arrays. In other words, in order to efficiently use much (perhaps even most) of today’s scientific/mathematical Python-based software, just knowing how to use Python’s built-in sequence types is insufficient - one also needs to know how to use NumPy arrays.\n",
        "\n",
        "---\n",
        "\n"
      ]
    },
    {
      "cell_type": "markdown",
      "metadata": {
        "id": "QOS0Or4Xjjuu"
      },
      "source": [
        "# 1. Creating an array\n",
        "\n",
        "Create an 1D, 2D and a 3D array."
      ]
    },
    {
      "cell_type": "code",
      "execution_count": 4,
      "metadata": {
        "id": "vmkYB3wVhccv"
      },
      "outputs": [],
      "source": [
        "import numpy as np\n",
        "# TODO: create 1D array\n",
        "arr1=np.array([10, 20, 30, 40, 50])\n",
        "\n",
        "# TODO: create 2D array\n",
        "arr2=np.array([[0, 2, 4],[1, 3, 5]])\n",
        "\n",
        "# TODO: create 3D array\n",
        "arr3=np.array([0,1,2], ndmin=3)"
      ]
    },
    {
      "cell_type": "markdown",
      "metadata": {
        "id": "KTHL7EUIj1v6"
      },
      "source": [
        "# 2. Basic array operations\n",
        "\n",
        "- Add, subtract, multiply and divide two arrays\n",
        "- Initialize an array of zeroes\n",
        "- Initialize an array of ones\n",
        "- Printing an array\n",
        "\n"
      ]
    },
    {
      "cell_type": "code",
      "execution_count": 6,
      "metadata": {
        "id": "GzS5EuIYsW2H"
      },
      "outputs": [
        {
          "name": "stdout",
          "output_type": "stream",
          "text": [
            "First Array: [10 20 30 40 50]\n",
            "Second Array: [ 5 15  4 25 10]\n",
            "Added Array: [15 35 34 65 60]\n",
            "Subtracted Array: [ 5  5 26 15 40]\n",
            "Multiplied Array: [  50  300  120 1000  500]\n",
            "Divided Array: [2.         1.33333333 7.5        1.6        5.        ]\n"
          ]
        }
      ],
      "source": [
        "arr2=np.array([5, 15, 4, 25, 10])\n",
        "# TODO: print an array\n",
        "print(\"First Array: {}\".format(arr1))\n",
        "print(\"Second Array: {}\".format(arr2))\n",
        "\n",
        "# TODO: add arrays\n",
        "print(\"Added Array: {}\".format(np.add(arr1, arr2)))\n",
        "\n",
        "# TODO: subtract arrays\n",
        "print(\"Subtracted Array: {}\".format(np.subtract(arr1, arr2)))\n",
        "\n",
        "# TODO: multiply arrays\n",
        "print(\"Multiplied Array: {}\".format(np.multiply(arr1, arr2)))\n",
        "\n",
        "# TODO: divide arrays\n",
        "print(\"Divided Array: {}\".format(np.divide(arr1, arr2)))    "
      ]
    },
    {
      "cell_type": "markdown",
      "metadata": {
        "id": "5A11rtzItx8P"
      },
      "source": [
        "# 3. Arrays, into it!\n",
        "- Indexing and slicing an array\n",
        "- Print n th row of a 2D array\n",
        "- Print n th column of a 2D array\n",
        "- Reshape an array\n",
        "- Stacking multiple arrays\n",
        "- Deep copy and Shallow copy"
      ]
    },
    {
      "cell_type": "code",
      "execution_count": 7,
      "metadata": {
        "id": "CaZK6aDOvPHC"
      },
      "outputs": [
        {
          "name": "stdout",
          "output_type": "stream",
          "text": [
            "Array Index no 2 : 20\n",
            "Slice of Array (last 3 elements): [30 40 50]\n",
            "Slice of Array (elements 1 to 4): [10 20 30 40]\n",
            "2nd row: [4 5 6]\n",
            "1st column: [1 4 7]\n",
            "Stacked Arrays: [[10 20 30 40 50]\n",
            " [ 5 15  4 25 10]]\n",
            "2D Array flattened as 1D: [1 2 3 4 5 6 7 8 9]\n",
            "1D Array reshaped as 5x2: \n",
            "[[10 20]\n",
            " [30 40]\n",
            " [50  5]\n",
            " [15  4]\n",
            " [25 10]]\n",
            "For Shallow copy shape changes to a do not occur in b but memory changes are common\n",
            "[[10  2  3]]\n",
            "[10  2  3]\n",
            "For Deep Copy memory changes in a do not occur in b\n",
            "[999   2   3]\n",
            "[10  2  3]\n"
          ]
        }
      ],
      "source": [
        "# TODO: indexing and slicing an array\n",
        "print(\"Array Index no 2 : {}\".format(arr1[1]))\n",
        "print(\"Slice of Array (last 3 elements): {}\".format(arr1[-3:]))\n",
        "print(\"Slice of Array (elements 1 to 4): {}\".format(arr1[0:4]))\n",
        "\n",
        "# TODO: Print n th row of a 2D array\n",
        "arr3=np.array([[1,2,3],[4,5,6],[7,8,9]])\n",
        "print(\"2nd row: {}\".format(arr3[1,:]))\n",
        "\n",
        "# TODO: Print n th column of a 2D array\n",
        "print(\"1st column: {}\".format(arr3[:,0]))\n",
        "\n",
        "# TODO: Stacking multiple arrays\n",
        "print(\"Stacked Arrays: {}\".format(np.stack((arr1,arr2),0)))\n",
        "\n",
        "# TODO: Reshape an array\n",
        "print(\"2D Array flattened as 1D: {}\".format(arr3.flatten()))\n",
        "print(\"1D Array reshaped as 5x2: \\n{}\".format(np.stack((arr1,arr2),0).reshape(5,2)))\n",
        "\n",
        "# TODO: Deep copy and Shallow copy\n",
        "a=np.array([1,2,3])\n",
        "b=a.view()\n",
        "a[0]=10\n",
        "a=a.reshape(1,3)\n",
        "print(\"For Shallow copy shape changes to a do not occur in b but memory changes are common\")\n",
        "print(a)\n",
        "print(b)\n",
        "print(\"For Deep Copy memory changes in a do not occur in b\")\n",
        "a=a.flatten()\n",
        "b=a.copy()\n",
        "a[0]=999\n",
        "print(a)\n",
        "print(b)\n"
      ]
    },
    {
      "cell_type": "markdown",
      "metadata": {
        "id": "-Hk1NjeXuLHg"
      },
      "source": [
        "# 4. NumPy methods\n",
        "NumPy has useful methods that simplify and allow greater degree of manipulation of arrays.\n",
        "This section is completely open, unstructured!\n",
        "Please go ahead and add all the interesting methods you've discovered! (Mention appropriate description as comments for the same)"
      ]
    },
    {
      "cell_type": "code",
      "execution_count": 28,
      "metadata": {
        "id": "HvLafvyauwb_"
      },
      "outputs": [
        {
          "name": "stdout",
          "output_type": "stream",
          "text": [
            "Copied array: [10 20 30 40 50]\n",
            "[[0 1 2 3 4]\n",
            " [5 6 7 8 9]]\n",
            "Transposed array: [[2 3]\n",
            " [4 6]\n",
            " [5 7]]\n",
            "Squezed array: [1 2]\n",
            "Sub arrays':  [array([3, 4]), array([5, 9]), array([0, 7])]\n",
            "Modified array:  [3 3 3 4 4 4 5 5 5 9 9 9 0 0 0 7 7 7]\n",
            "[10 20 30 40 50 10 20 30 40 50]\n",
            "Unique elements of array:  [1 2 3 4]\n",
            "Array after insertion:  [3 4 5 1 9 0 7]\n",
            "Array after insertion at the end:  [3 4 5 9 0 7 2 3]\n",
            "[2 3 4 0 1]\n",
            "Array after deletion:  [[2 5]\n",
            " [3 7]]\n",
            "Reveresed array:  [7 0 9 5 4 3]\n",
            "[11 12 13 15 16 18 20]\n",
            "[11 14 15 20 22 25]\n"
          ]
        }
      ],
      "source": [
        "#To copy and array to another\n",
        "arr4=np.array([8,12,32,4,1])\n",
        "np.copyto(arr4,arr1)\n",
        "print(\"Copied array:\",arr4)\n",
        "\n",
        "#Return the shape of an array\n",
        "np.shape([[1,2,3]])\n",
        "\n",
        "#Gives a new shape to an array without changing its data\n",
        "a = np.arange(10).reshape((2,5))\n",
        "print(a)\n",
        "\n",
        "#To get transpose of an array\n",
        "arr = [[2,4,5],[3,6,7]]\n",
        "print(\"Transposed array:\",np.transpose(arr))\n",
        "\n",
        "#To remove axes of length one \n",
        "arr4=np.array([[1,2]])\n",
        "print(\"Squezed array:\",np.squeeze(arr4))\n",
        "\n",
        "#To split an array into sub array\n",
        "xarr=np.array([3,4,5,9,0,7])\n",
        "print(\"Sub arrays': \",np.split(xarr, 3))\n",
        "\n",
        "#To repeat elements of an array\n",
        "print(\"Modified array: \",np.repeat(xarr,3))\n",
        "\n",
        "#To repeat an array\n",
        "print(np.tile(arr1,2))\n",
        "\n",
        "#To find unique elements of array\n",
        "uarr = np.array([1,2,4,3,3,2,1,])\n",
        "print(\"Unique elements of array: \",np.unique(uarr))\n",
        "\n",
        "#To insert elements in an array\n",
        "print(\"Array after insertion: \",np.insert(xarr,3,1))\n",
        "\n",
        "#To add elements to the end of the array\n",
        "print(\"Array after insertion at the end: \",np.append(xarr,[2,3]))\n",
        "\n",
        "#To roll array elements\n",
        "barr = np.arange(5)\n",
        "print(np.roll(barr, 3))\n",
        "\n",
        "#To delete elements of an array\n",
        "print(\"Array after deletion: \",np.delete(arr,1,1))\n",
        "\n",
        "#To reverse\n",
        "print(\"Reveresed array: \",np.flip(xarr))\n",
        "\n",
        "#To assemble an nd-array from nested lists of blocks\n",
        "y = np.array([11,12,13])\n",
        "z = np.array([15,16,18])\n",
        "print(np.block([y,z, 20]))\n",
        "\n",
        "#To return a contiguous flattened array\n",
        "x = np.array([[11,14,15], [20,22,25]])\n",
        "print(np.ravel(x))"
      ]
    },
    {
      "cell_type": "markdown",
      "metadata": {
        "id": "ztqLrB9tu2nt"
      },
      "source": [
        "# 5. Properties of an array\n",
        "Just like functions and methods, a NumPy array has properties!\n",
        "This section is completely open, unstructured!\n",
        "Please go ahead and add all the interesting methods you've discovered! (Mention appropriate description as comments for the same)"
      ]
    },
    {
      "cell_type": "code",
      "execution_count": null,
      "metadata": {
        "id": "h88U3jT1vL8Q"
      },
      "outputs": [],
      "source": [
        "# write them all!"
      ]
    },
    {
      "cell_type": "markdown",
      "metadata": {
        "id": "DmLW18s2wEX4"
      },
      "source": [
        "# 6. Matrix operations\n",
        "- Inner product\n",
        "- Dot product\n",
        "- Transpose\n",
        "- Trace\n",
        "- Rank\n",
        "- Determinant\n",
        "- True inverse\n",
        "- Pseudo inverse\n",
        "- Flatten\n",
        "- Eigenvalues and eigenvectors\n",
        "\n",
        "*Note: understand the @ operator and its significance!*"
      ]
    },
    {
      "cell_type": "code",
      "execution_count": null,
      "metadata": {
        "id": "YJxtNVtPwttM"
      },
      "outputs": [],
      "source": [
        "# TODO: Inner product\n",
        "\n",
        "\n",
        "# TODO: Dot product\n",
        "\n",
        "\n",
        "# TODO: Transpose\n",
        "\n",
        "\n",
        "# TODO: Trace\n",
        "\n",
        "\n",
        "# TODO: Rank\n",
        "\n",
        "\n",
        "# TODO: Determinant\n",
        "\n",
        "\n",
        "# TODO: True inverse\n",
        "\n",
        "\n",
        "# TODO: Pseudo inverse\n",
        "\n",
        "\n",
        "# TODO: Flatten\n",
        "\n",
        "\n",
        "# TODO: Eigenvalues and eigenvectors\n",
        "\n"
      ]
    },
    {
      "cell_type": "markdown",
      "metadata": {
        "id": "lDnNLp-m2nz4"
      },
      "source": [
        "# 7. 10 useful NumPy methods you should know!\n",
        "**show histograms wherever necessary**\n",
        "- linspace\n",
        "- arange\n",
        "- digitize\n",
        "- repeat\n",
        "- histogram\n",
        "- random (what is seed, randint and different random distributions: binomial, normal, exponential, gaussian, etc., and plot their histograms)\n",
        "- polyfit\n",
        "- squeeze\n",
        "- argmax\n",
        "- loadtxt and savetxt\n",
        "\n",
        "\n"
      ]
    },
    {
      "cell_type": "code",
      "execution_count": null,
      "metadata": {
        "id": "lSac5Aas4BfV"
      },
      "outputs": [],
      "source": [
        "# TODO: linspace"
      ]
    },
    {
      "cell_type": "code",
      "execution_count": null,
      "metadata": {
        "id": "Y6ur3CIk4BY3"
      },
      "outputs": [],
      "source": [
        "# TODO: arange"
      ]
    },
    {
      "cell_type": "code",
      "execution_count": null,
      "metadata": {
        "id": "i6SrOPQl4BSd"
      },
      "outputs": [],
      "source": [
        "# TODO: digitize"
      ]
    },
    {
      "cell_type": "code",
      "execution_count": null,
      "metadata": {
        "id": "uiy4Aa3x4BLs"
      },
      "outputs": [],
      "source": [
        "# TODO: repeat"
      ]
    },
    {
      "cell_type": "code",
      "execution_count": null,
      "metadata": {
        "id": "JdnerfxO4BGL"
      },
      "outputs": [],
      "source": [
        "# TODO: histogram"
      ]
    },
    {
      "cell_type": "code",
      "execution_count": null,
      "metadata": {
        "id": "Xbd2LIcB4BBf"
      },
      "outputs": [],
      "source": [
        "# TODO: random"
      ]
    },
    {
      "cell_type": "code",
      "execution_count": null,
      "metadata": {
        "id": "6n58A-6_4Avv"
      },
      "outputs": [],
      "source": [
        "# TODO: polyfit"
      ]
    },
    {
      "cell_type": "code",
      "execution_count": null,
      "metadata": {
        "id": "oKXfkaqy4An2"
      },
      "outputs": [],
      "source": [
        "# TODO: squeeze"
      ]
    },
    {
      "cell_type": "code",
      "execution_count": null,
      "metadata": {
        "id": "fUdXK3d64AbX"
      },
      "outputs": [],
      "source": [
        "# TODO: argmax"
      ]
    },
    {
      "cell_type": "code",
      "execution_count": null,
      "metadata": {
        "id": "85MT5Pt_3__w"
      },
      "outputs": [],
      "source": [
        "# TODO: loadtxt and savetxt"
      ]
    },
    {
      "cell_type": "markdown",
      "metadata": {
        "id": "BI2qJkwA5FpB"
      },
      "source": [
        "\n",
        "\n",
        "---\n",
        "\n",
        "\n",
        "# **Congratulations!**\n",
        "## Now you know how to perform basic linear algebra operations with NumPy to get you started with deep learning!\n",
        "\n",
        "### Proceed to chapter 2 to learn about DataFrames and how to handle them with pandas!"
      ]
    }
  ],
  "metadata": {
    "colab": {
      "authorship_tag": "ABX9TyMW4V7nidS+Gtk84VK4Og+h",
      "include_colab_link": true,
      "name": "1_numpy_essentials.ipynb",
      "provenance": []
    },
    "interpreter": {
      "hash": "03b2d0acdfaec87b3364941e3c61a71519bb2bb2261dc2cd0274c4f172a01643"
    },
    "kernelspec": {
      "display_name": "Python 3.9.7 64-bit",
      "name": "python3"
    },
    "language_info": {
      "codemirror_mode": {
        "name": "ipython",
        "version": 3
      },
      "file_extension": ".py",
      "mimetype": "text/x-python",
      "name": "python",
      "nbconvert_exporter": "python",
      "pygments_lexer": "ipython3",
      "version": "3.9.7"
    }
  },
  "nbformat": 4,
  "nbformat_minor": 2
}
