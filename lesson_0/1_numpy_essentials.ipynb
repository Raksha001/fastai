{
  "nbformat": 4,
  "nbformat_minor": 2,
  "metadata": {
    "colab": {
      "name": "1_numpy_essentials.ipynb",
      "provenance": [],
      "authorship_tag": "ABX9TyMW4V7nidS+Gtk84VK4Og+h",
      "include_colab_link": true
    },
    "kernelspec": {
      "name": "python3",
      "display_name": "Python 3"
    },
    "language_info": {
      "name": "python"
    }
  },
  "cells": [
    {
      "cell_type": "markdown",
      "source": [
        "<a href=\"https://colab.research.google.com/github/rahwinside/fastai/blob/main/lesson_0/1_numpy_essentials.ipynb\" target=\"_parent\"><img src=\"https://colab.research.google.com/assets/colab-badge.svg\" alt=\"Open In Colab\"/></a>"
      ],
      "metadata": {
        "id": "view-in-github",
        "colab_type": "text"
      }
    },
    {
      "cell_type": "markdown",
      "source": [
        "# **IMPORTANT**: Please avoid creating unnecessary arrays: use the arrays declared in section 1; create additional arrays only if necessary!"
      ],
      "metadata": {
        "id": "DgtsvALoxjKB"
      }
    },
    {
      "cell_type": "markdown",
      "source": [
        "# **NumPy Essentials**\n",
        "\n",
        "NumPy is the fundamental package for scientific computing in Python. It is a Python library that provides a multidimensional array object, various derived objects (such as masked arrays and matrices), and an assortment of routines for fast operations on arrays, including mathematical, logical, shape manipulation, sorting, selecting, I/O, discrete Fourier transforms, basic linear algebra, basic statistical operations, random simulation and much more. This library is widely used for numerical analysis, matrix computations, and mathematical operations.\n",
        "\n",
        "At the core of the NumPy package, is the ndarray object. This encapsulates n-dimensional arrays of homogeneous data types, with many operations being performed in compiled code for performance. There are several important differences between NumPy arrays and the standard Python sequences:\n",
        "\n",
        "- NumPy arrays have a fixed size at creation, unlike Python lists (which can grow dynamically). Changing the size of an ndarray will create a new array and delete the original.\n",
        "\n",
        "- The elements in a NumPy array are all required to be of the same data type, and thus will be the same size in memory. The exception: one can have arrays of (Python, including NumPy) objects, thereby allowing for arrays of different sized elements.\n",
        "\n",
        "- NumPy arrays facilitate advanced mathematical and other types of operations on large numbers of data. Typically, such operations are executed more efficiently and with less code than is possible using Python’s built-in sequences.\n",
        "\n",
        "- A growing plethora of scientific and mathematical Python-based packages are using NumPy arrays; though these typically support Python-sequence input, they convert such input to NumPy arrays prior to processing, and they often output NumPy arrays. In other words, in order to efficiently use much (perhaps even most) of today’s scientific/mathematical Python-based software, just knowing how to use Python’s built-in sequence types is insufficient - one also needs to know how to use NumPy arrays.\n",
        "\n",
        "---\n",
        "\n"
      ],
      "metadata": {
        "id": "xlcUVM0FiM7v"
      }
    },
    {
      "cell_type": "markdown",
      "source": [
        "# 1. Creating an array\n",
        "\n",
        "Create an 1D, 2D and a 3D array."
      ],
      "metadata": {
        "id": "QOS0Or4Xjjuu"
      }
    },
    {
      "cell_type": "code",
      "execution_count": null,
      "source": [
        "import numpy as np\r\n",
        "# TODO: create 1D array\r\n",
        "arr1=np.array([0, 1, 2, 3, 4])\r\n",
        "\r\n",
        "# TODO: create 2D array\r\n",
        "arr2=np.array([0, 2, 4],[1, 3, 5])\r\n",
        "\r\n",
        "# TODO: create 3D array\r\n",
        "arr3=np.array([0,1,2], ndmin=3)"
      ],
      "outputs": [],
      "metadata": {
        "id": "vmkYB3wVhccv"
      }
    },
    {
      "cell_type": "markdown",
      "source": [
        "# 2. Basic array operations\n",
        "\n",
        "- Add, subtract, multiply and divide two arrays\n",
        "- Initialize an array of zeroes\n",
        "- Initialize an array of ones\n",
        "- Printing an array\n",
        "\n"
      ],
      "metadata": {
        "id": "KTHL7EUIj1v6"
      }
    },
    {
      "cell_type": "code",
      "execution_count": null,
      "source": [
        "# TODO: add arrays\r\n",
        "\r\n",
        "\r\n",
        "# TODO: subtract arrays\r\n",
        "\r\n",
        "\r\n",
        "# TODO: multiply arrays\r\n",
        "\r\n",
        "\r\n",
        "# TODO: divide arrays\r\n",
        "\r\n",
        "\r\n",
        "# TODO: print an array\r\n",
        "\r\n"
      ],
      "outputs": [],
      "metadata": {
        "id": "GzS5EuIYsW2H"
      }
    },
    {
      "cell_type": "markdown",
      "source": [
        "# 3. Arrays, into it!\n",
        "- Indexing and slicing an array\n",
        "- Print n th row of a 2D array\n",
        "- Print n th column of a 2D array\n",
        "- Reshape an array\n",
        "- Stacking multiple arrays\n",
        "- Deep copy and Shallow copy"
      ],
      "metadata": {
        "id": "5A11rtzItx8P"
      }
    },
    {
      "cell_type": "code",
      "execution_count": null,
      "source": [
        "# TODO: indexing and slicing an array\r\n",
        "\r\n",
        "\r\n",
        "# TODO: Print n th row of a 2D array\r\n",
        "\r\n",
        "\r\n",
        "# TODO: Print n th column of a 2D array\r\n",
        "\r\n",
        "\r\n",
        "# TODO: Reshape an array\r\n",
        "\r\n",
        "\r\n",
        "# TODO: Stacking multiple arrays\r\n",
        "\r\n",
        "\r\n",
        "# TODO: Deep copy and Shallow copy\r\n",
        "\r\n"
      ],
      "outputs": [],
      "metadata": {
        "id": "CaZK6aDOvPHC"
      }
    },
    {
      "cell_type": "markdown",
      "source": [
        "# 4. NumPy methods\n",
        "NumPy has useful methods that simplify and allow greater degree of manipulation of arrays.\n",
        "This section is completely open, unstructured!\n",
        "Please go ahead and add all the interesting methods you've discovered! (Mention appropriate description as comments for the same)"
      ],
      "metadata": {
        "id": "-Hk1NjeXuLHg"
      }
    },
    {
      "cell_type": "code",
      "execution_count": null,
      "source": [
        "# write them all!"
      ],
      "outputs": [],
      "metadata": {
        "id": "HvLafvyauwb_"
      }
    },
    {
      "cell_type": "markdown",
      "source": [
        "# 5. Properties of an array\n",
        "Just like functions and methods, a NumPy array has properties!\n",
        "This section is completely open, unstructured!\n",
        "Please go ahead and add all the interesting methods you've discovered! (Mention appropriate description as comments for the same)"
      ],
      "metadata": {
        "id": "ztqLrB9tu2nt"
      }
    },
    {
      "cell_type": "code",
      "execution_count": null,
      "source": [
        "# write them all!"
      ],
      "outputs": [],
      "metadata": {
        "id": "h88U3jT1vL8Q"
      }
    },
    {
      "cell_type": "markdown",
      "source": [
        "# 6. Matrix operations\n",
        "- Inner product\n",
        "- Dot product\n",
        "- Transpose\n",
        "- Trace\n",
        "- Rank\n",
        "- Determinant\n",
        "- True inverse\n",
        "- Pseudo inverse\n",
        "- Flatten\n",
        "- Eigenvalues and eigenvectors\n",
        "\n",
        "*Note: understand the @ operator and its significance!*"
      ],
      "metadata": {
        "id": "DmLW18s2wEX4"
      }
    },
    {
      "cell_type": "code",
      "execution_count": null,
      "source": [
        "# TODO: Inner product\n",
        "\n",
        "\n",
        "# TODO: Dot product\n",
        "\n",
        "\n",
        "# TODO: Transpose\n",
        "\n",
        "\n",
        "# TODO: Trace\n",
        "\n",
        "\n",
        "# TODO: Rank\n",
        "\n",
        "\n",
        "# TODO: Determinant\n",
        "\n",
        "\n",
        "# TODO: True inverse\n",
        "\n",
        "\n",
        "# TODO: Pseudo inverse\n",
        "\n",
        "\n",
        "# TODO: Flatten\n",
        "\n",
        "\n",
        "# TODO: Eigenvalues and eigenvectors\n",
        "\n"
      ],
      "outputs": [],
      "metadata": {
        "id": "YJxtNVtPwttM"
      }
    },
    {
      "cell_type": "markdown",
      "source": [
        "# 7. 10 useful NumPy methods you should know!\n",
        "**show histograms wherever necessary**\n",
        "- linspace\n",
        "- arange\n",
        "- digitize\n",
        "- repeat\n",
        "- histogram\n",
        "- random (what is seed, randint and different random distributions: binomial, normal, exponential, gaussian, etc., and plot their histograms)\n",
        "- polyfit\n",
        "- squeeze\n",
        "- argmax\n",
        "- loadtxt and savetxt\n",
        "\n",
        "\n"
      ],
      "metadata": {
        "id": "lDnNLp-m2nz4"
      }
    },
    {
      "cell_type": "code",
      "execution_count": null,
      "source": [
        "# TODO: linspace"
      ],
      "outputs": [],
      "metadata": {
        "id": "lSac5Aas4BfV"
      }
    },
    {
      "cell_type": "code",
      "execution_count": null,
      "source": [
        "# TODO: arange"
      ],
      "outputs": [],
      "metadata": {
        "id": "Y6ur3CIk4BY3"
      }
    },
    {
      "cell_type": "code",
      "execution_count": null,
      "source": [
        "# TODO: digitize"
      ],
      "outputs": [],
      "metadata": {
        "id": "i6SrOPQl4BSd"
      }
    },
    {
      "cell_type": "code",
      "execution_count": null,
      "source": [
        "# TODO: repeat"
      ],
      "outputs": [],
      "metadata": {
        "id": "uiy4Aa3x4BLs"
      }
    },
    {
      "cell_type": "code",
      "execution_count": null,
      "source": [
        "# TODO: histogram"
      ],
      "outputs": [],
      "metadata": {
        "id": "JdnerfxO4BGL"
      }
    },
    {
      "cell_type": "code",
      "execution_count": null,
      "source": [
        "# TODO: random"
      ],
      "outputs": [],
      "metadata": {
        "id": "Xbd2LIcB4BBf"
      }
    },
    {
      "cell_type": "code",
      "execution_count": null,
      "source": [
        "# TODO: polyfit"
      ],
      "outputs": [],
      "metadata": {
        "id": "6n58A-6_4Avv"
      }
    },
    {
      "cell_type": "code",
      "execution_count": null,
      "source": [
        "# TODO: squeeze"
      ],
      "outputs": [],
      "metadata": {
        "id": "oKXfkaqy4An2"
      }
    },
    {
      "cell_type": "code",
      "execution_count": null,
      "source": [
        "# TODO: argmax"
      ],
      "outputs": [],
      "metadata": {
        "id": "fUdXK3d64AbX"
      }
    },
    {
      "cell_type": "code",
      "execution_count": null,
      "source": [
        "# TODO: loadtxt and savetxt"
      ],
      "outputs": [],
      "metadata": {
        "id": "85MT5Pt_3__w"
      }
    },
    {
      "cell_type": "markdown",
      "source": [
        "\n",
        "\n",
        "---\n",
        "\n",
        "\n",
        "# **Congratulations!**\n",
        "## Now you know how to perform basic linear algebra operations with NumPy to get you started with deep learning!\n",
        "\n",
        "### Proceed to chapter 2 to learn about DataFrames and how to handle them with pandas!"
      ],
      "metadata": {
        "id": "BI2qJkwA5FpB"
      }
    }
  ]
}