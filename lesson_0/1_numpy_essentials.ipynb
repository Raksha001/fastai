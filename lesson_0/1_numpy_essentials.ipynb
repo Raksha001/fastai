{
  "cells": [
    {
      "cell_type": "markdown",
      "metadata": {
        "colab_type": "text",
        "id": "view-in-github"
      },
      "source": [
        "<a href=\"https://colab.research.google.com/github/rahwinside/fastai/blob/main/lesson_0/1_numpy_essentials.ipynb\" target=\"_parent\"><img src=\"https://colab.research.google.com/assets/colab-badge.svg\" alt=\"Open In Colab\"/></a>"
      ]
    },
    {
      "cell_type": "markdown",
      "metadata": {
        "id": "DgtsvALoxjKB"
      },
      "source": [
        "# **IMPORTANT**: Please avoid creating unnecessary arrays: use the arrays declared in section 1; create additional arrays only if necessary!"
      ]
    },
    {
      "cell_type": "markdown",
      "metadata": {
        "id": "xlcUVM0FiM7v"
      },
      "source": [
        "# **NumPy Essentials**\n",
        "\n",
        "NumPy is the fundamental package for scientific computing in Python. It is a Python library that provides a multidimensional array object, various derived objects (such as masked arrays and matrices), and an assortment of routines for fast operations on arrays, including mathematical, logical, shape manipulation, sorting, selecting, I/O, discrete Fourier transforms, basic linear algebra, basic statistical operations, random simulation and much more. This library is widely used for numerical analysis, matrix computations, and mathematical operations.\n",
        "\n",
        "At the core of the NumPy package, is the ndarray object. This encapsulates n-dimensional arrays of homogeneous data types, with many operations being performed in compiled code for performance. There are several important differences between NumPy arrays and the standard Python sequences:\n",
        "\n",
        "- NumPy arrays have a fixed size at creation, unlike Python lists (which can grow dynamically). Changing the size of an ndarray will create a new array and delete the original.\n",
        "\n",
        "- The elements in a NumPy array are all required to be of the same data type, and thus will be the same size in memory. The exception: one can have arrays of (Python, including NumPy) objects, thereby allowing for arrays of different sized elements.\n",
        "\n",
        "- NumPy arrays facilitate advanced mathematical and other types of operations on large numbers of data. Typically, such operations are executed more efficiently and with less code than is possible using Python’s built-in sequences.\n",
        "\n",
        "- A growing plethora of scientific and mathematical Python-based packages are using NumPy arrays; though these typically support Python-sequence input, they convert such input to NumPy arrays prior to processing, and they often output NumPy arrays. In other words, in order to efficiently use much (perhaps even most) of today’s scientific/mathematical Python-based software, just knowing how to use Python’s built-in sequence types is insufficient - one also needs to know how to use NumPy arrays.\n",
        "\n",
        "---\n",
        "\n"
      ]
    },
    {
      "cell_type": "markdown",
      "metadata": {
        "id": "QOS0Or4Xjjuu"
      },
      "source": [
        "# 1. Creating an array\n",
        "\n",
        "Create an 1D, 2D and a 3D array."
      ]
    },
    {
      "cell_type": "code",
      "execution_count": 5,
      "metadata": {
        "id": "vmkYB3wVhccv"
      },
      "outputs": [],
      "source": [
        "import numpy as np\n",
        "# TODO: create 1D array\n",
        "arr1=np.array([10, 20, 30, 40, 50])\n",
        "\n",
        "# TODO: create 2D array\n",
        "arr2=np.array([[0, 2, 4],[1, 3, 5]])\n",
        "\n",
        "# TODO: create 3D array\n",
        "arr3=np.array([0,1,2], ndmin=3)"
      ]
    },
    {
      "cell_type": "markdown",
      "metadata": {
        "id": "KTHL7EUIj1v6"
      },
      "source": [
        "# 2. Basic array operations\n",
        "\n",
        "- Add, subtract, multiply and divide two arrays\n",
        "- Initialize an array of zeroes\n",
        "- Initialize an array of ones\n",
        "- Printing an array\n",
        "\n"
      ]
    },
    {
      "cell_type": "code",
      "execution_count": 6,
      "metadata": {
        "id": "GzS5EuIYsW2H"
      },
      "outputs": [
        {
          "name": "stdout",
          "output_type": "stream",
          "text": [
            "First Array: [10 20 30 40 50]\n",
            "Second Array: [ 5 15  4 25 10]\n",
            "Added Array: [15 35 34 65 60]\n",
            "Subtracted Array: [ 5  5 26 15 40]\n",
            "Multiplied Array: [  50  300  120 1000  500]\n",
            "Divided Array: [2.         1.33333333 7.5        1.6        5.        ]\n"
          ]
        }
      ],
      "source": [
        "arr2=np.array([5, 15, 4, 25, 10])\n",
        "# TODO: print an array\n",
        "print(\"First Array: {}\".format(arr1))\n",
        "print(\"Second Array: {}\".format(arr2))\n",
        "\n",
        "# TODO: add arrays\n",
        "print(\"Added Array: {}\".format(np.add(arr1, arr2)))\n",
        "\n",
        "# TODO: subtract arrays\n",
        "print(\"Subtracted Array: {}\".format(np.subtract(arr1, arr2)))\n",
        "\n",
        "# TODO: multiply arrays\n",
        "print(\"Multiplied Array: {}\".format(np.multiply(arr1, arr2)))\n",
        "\n",
        "# TODO: divide arrays\n",
        "print(\"Divided Array: {}\".format(np.divide(arr1, arr2)))    "
      ]
    },
    {
      "cell_type": "markdown",
      "metadata": {
        "id": "5A11rtzItx8P"
      },
      "source": [
        "# 3. Arrays, into it!\n",
        "- Indexing and slicing an array\n",
        "- Print n th row of a 2D array\n",
        "- Print n th column of a 2D array\n",
        "- Reshape an array\n",
        "- Stacking multiple arrays\n",
        "- Deep copy and Shallow copy"
      ]
    },
    {
      "cell_type": "code",
      "execution_count": null,
      "metadata": {
        "id": "CaZK6aDOvPHC"
      },
      "outputs": [],
      "source": [
        "# TODO: indexing and slicing an array\n",
        "\n",
        "\n",
        "# TODO: Print n th row of a 2D array\n",
        "\n",
        "\n",
        "# TODO: Print n th column of a 2D array\n",
        "\n",
        "\n",
        "# TODO: Reshape an array\n",
        "\n",
        "\n",
        "# TODO: Stacking multiple arrays\n",
        "\n",
        "\n",
        "# TODO: Deep copy and Shallow copy\n",
        "\n"
      ]
    },
    {
      "cell_type": "markdown",
      "metadata": {
        "id": "-Hk1NjeXuLHg"
      },
      "source": [
        "# 4. NumPy methods\n",
        "NumPy has useful methods that simplify and allow greater degree of manipulation of arrays.\n",
        "This section is completely open, unstructured!\n",
        "Please go ahead and add all the interesting methods you've discovered! (Mention appropriate description as comments for the same)"
      ]
    },
    {
      "cell_type": "code",
      "execution_count": null,
      "metadata": {
        "id": "HvLafvyauwb_"
      },
      "outputs": [],
      "source": [
        "# write them all!"
      ]
    },
    {
      "cell_type": "markdown",
      "metadata": {
        "id": "ztqLrB9tu2nt"
      },
      "source": [
        "# 5. Properties of an array\n",
        "Just like functions and methods, a NumPy array has properties!\n",
        "This section is completely open, unstructured!\n",
        "Please go ahead and add all the interesting methods you've discovered! (Mention appropriate description as comments for the same)"
      ]
    },
    {
      "cell_type": "code",
      "execution_count": null,
      "metadata": {
        "id": "h88U3jT1vL8Q"
      },
      "outputs": [],
      "source": [
        "# write them all!"
      ]
    },
    {
      "cell_type": "markdown",
      "metadata": {
        "id": "DmLW18s2wEX4"
      },
      "source": [
        "# 6. Matrix operations\n",
        "- Inner product\n",
        "- Dot product\n",
        "- Transpose\n",
        "- Trace\n",
        "- Rank\n",
        "- Determinant\n",
        "- True inverse\n",
        "- Pseudo inverse\n",
        "- Flatten\n",
        "- Eigenvalues and eigenvectors\n",
        "\n",
        "*Note: understand the @ operator and its significance!*"
      ]
    },
    {
      "cell_type": "code",
      "execution_count": null,
      "metadata": {
        "id": "YJxtNVtPwttM"
      },
      "outputs": [],
      "source": [
        "# TODO: Inner product\n",
        "\n",
        "\n",
        "# TODO: Dot product\n",
        "\n",
        "\n",
        "# TODO: Transpose\n",
        "\n",
        "\n",
        "# TODO: Trace\n",
        "\n",
        "\n",
        "# TODO: Rank\n",
        "\n",
        "\n",
        "# TODO: Determinant\n",
        "\n",
        "\n",
        "# TODO: True inverse\n",
        "\n",
        "\n",
        "# TODO: Pseudo inverse\n",
        "\n",
        "\n",
        "# TODO: Flatten\n",
        "\n",
        "\n",
        "# TODO: Eigenvalues and eigenvectors\n",
        "\n"
      ]
    },
    {
      "cell_type": "markdown",
      "metadata": {
        "id": "lDnNLp-m2nz4"
      },
      "source": [
        "# 7. 10 useful NumPy methods you should know!\n",
        "**show histograms wherever necessary**\n",
        "- linspace\n",
        "- arange\n",
        "- digitize\n",
        "- repeat\n",
        "- histogram\n",
        "- random (what is seed, randint and different random distributions: binomial, normal, exponential, gaussian, etc., and plot their histograms)\n",
        "- polyfit\n",
        "- squeeze\n",
        "- argmax\n",
        "- loadtxt and savetxt\n",
        "\n",
        "\n"
      ]
    },
    {
      "cell_type": "code",
      "execution_count": null,
      "metadata": {
        "id": "lSac5Aas4BfV"
      },
      "outputs": [],
      "source": [
        "# TODO: linspace"
      ]
    },
    {
      "cell_type": "code",
      "execution_count": null,
      "metadata": {
        "id": "Y6ur3CIk4BY3"
      },
      "outputs": [],
      "source": [
        "# TODO: arange"
      ]
    },
    {
      "cell_type": "code",
      "execution_count": null,
      "metadata": {
        "id": "i6SrOPQl4BSd"
      },
      "outputs": [],
      "source": [
        "# TODO: digitize"
      ]
    },
    {
      "cell_type": "code",
      "execution_count": null,
      "metadata": {
        "id": "uiy4Aa3x4BLs"
      },
      "outputs": [],
      "source": [
        "# TODO: repeat"
      ]
    },
    {
      "cell_type": "code",
      "execution_count": null,
      "metadata": {
        "id": "JdnerfxO4BGL"
      },
      "outputs": [],
      "source": [
        "# TODO: histogram"
      ]
    },
    {
      "cell_type": "code",
      "execution_count": null,
      "metadata": {
        "id": "Xbd2LIcB4BBf"
      },
      "outputs": [],
      "source": [
        "# TODO: random"
      ]
    },
    {
      "cell_type": "code",
      "execution_count": null,
      "metadata": {
        "id": "6n58A-6_4Avv"
      },
      "outputs": [],
      "source": [
        "# TODO: polyfit"
      ]
    },
    {
      "cell_type": "code",
      "execution_count": null,
      "metadata": {
        "id": "oKXfkaqy4An2"
      },
      "outputs": [],
      "source": [
        "# TODO: squeeze"
      ]
    },
    {
      "cell_type": "code",
      "execution_count": null,
      "metadata": {
        "id": "fUdXK3d64AbX"
      },
      "outputs": [],
      "source": [
        "# TODO: argmax"
      ]
    },
    {
      "cell_type": "code",
      "execution_count": null,
      "metadata": {
        "id": "85MT5Pt_3__w"
      },
      "outputs": [],
      "source": [
        "# TODO: loadtxt and savetxt"
      ]
    },
    {
      "cell_type": "markdown",
      "metadata": {
        "id": "BI2qJkwA5FpB"
      },
      "source": [
        "\n",
        "\n",
        "---\n",
        "\n",
        "\n",
        "# **Congratulations!**\n",
        "## Now you know how to perform basic linear algebra operations with NumPy to get you started with deep learning!\n",
        "\n",
        "### Proceed to chapter 2 to learn about DataFrames and how to handle them with pandas!"
      ]
    }
  ],
  "metadata": {
    "colab": {
      "authorship_tag": "ABX9TyMW4V7nidS+Gtk84VK4Og+h",
      "include_colab_link": true,
      "name": "1_numpy_essentials.ipynb",
      "provenance": []
    },
    "interpreter": {
      "hash": "9161589c03f79ee8f44dc63a9f12af7430698781a52da1375abbf686abf58478"
    },
    "kernelspec": {
      "display_name": "Python 3.8.5 64-bit ('base': conda)",
      "name": "python3"
    },
    "language_info": {
      "codemirror_mode": {
        "name": "ipython",
        "version": 3
      },
      "file_extension": ".py",
      "mimetype": "text/x-python",
      "name": "python",
      "nbconvert_exporter": "python",
      "pygments_lexer": "ipython3",
      "version": "3.8.5"
    }
  },
  "nbformat": 4,
  "nbformat_minor": 2
}
